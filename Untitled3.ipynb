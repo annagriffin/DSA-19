{
 "cells": [
  {
   "cell_type": "code",
   "execution_count": 4,
   "metadata": {},
   "outputs": [],
   "source": [
    "def add(next_pos, pennies, dimes, nickles, hours, \n",
    "        clock, positions_filled, counter, total):\n",
    "    \n",
    "    if counter == 0:\n",
    "        return False\n",
    "    \n",
    "    if (next_pos in positions_filled):\n",
    "        return False\n",
    "    \n",
    "    while (counter > 0):\n",
    "        i = 0\n",
    "        while (i < 3):\n",
    "            \n",
    "            if (i ==0):\n",
    "                if (pennies > 0):\n",
    "                    clock[next_pos] = 'p'\n",
    "                    pennies -= 1\n",
    "                    counter -= 1\n",
    "                    positions_filled.append(next_pos)\n",
    "                    pos_temp = next_pos\n",
    "                    next_pos = (next_pos + 1) % hours\n",
    "                    if add(next_pos, pennies, dimes, nickles, hours,\n",
    "                        clock,positions_filled, counter, total) == True:\n",
    "                        return True\n",
    "                    else: \n",
    "                        pennies += 1\n",
    "                        counter += 1\n",
    "                        next_pos = pos_temp\n",
    "                        positions_filled = positions_filled[:-1]\n",
    "                        i+=1\n",
    "                        \n",
    "                    \n",
    "            elif (i == 1):\n",
    "                if (nickles > 0):\n",
    "                    clock[next_pos] = 'n'\n",
    "                    nickles -= 1\n",
    "                    counter -= 1\n",
    "                    positions_filled.append(next_pos)\n",
    "                    pos_temp = next_pos\n",
    "                    next_pos = (next_pos + 5) % hours\n",
    "                    if add(next_pos, pennies, dimes, nickles, hours,\n",
    "                        clock,positions_filled, counter, total) == True:\n",
    "                        return True\n",
    "                    else:\n",
    "                        nickles += 1\n",
    "                        counter += 1\n",
    "                        next_pos = pos_temp\n",
    "                        positions_filled = positions_filled[:-1]\n",
    "                        i+=1\n",
    "                \n",
    "                \n",
    "            elif (i == 2):\n",
    "                if (dimes > 0):\n",
    "                    clock[next_pos] = 'd'\n",
    "                    dimes -= 1\n",
    "                    counter -= 1\n",
    "                    positions_filled.append(next_pos)\n",
    "                    pos_temp = next_pos\n",
    "                    next_pos = (next_pos + 10) % hours\n",
    "                    if add(next_pos, pennies, dimes, nickles, hours,\n",
    "                        clock,positions_filled, counter, total) == True:\n",
    "                        return True\n",
    "                    else: \n",
    "                        dimes += 1\n",
    "                        counter += 1\n",
    "                        next_pos = pos_temp\n",
    "                        positions_filled = positions_filled[:-1]\n",
    "                        i+=1\n",
    "                    \n",
    "    return clock\n",
    "    "
   ]
  },
  {
   "cell_type": "code",
   "execution_count": 2,
   "metadata": {},
   "outputs": [],
   "source": [
    "pennies = 2\n",
    "nickles = 2\n",
    "dimes = 2\n",
    "\n",
    "hours = 6\n",
    "total = 6\n",
    "counter = 6\n",
    "next_pos = 0\n",
    "\n",
    "positions_filled = []\n",
    "\n",
    "clock = [None]*hours\n"
   ]
  },
  {
   "cell_type": "code",
   "execution_count": 3,
   "metadata": {},
   "outputs": [
    {
     "ename": "KeyboardInterrupt",
     "evalue": "",
     "output_type": "error",
     "traceback": [
      "\u001b[0;31m---------------------------------------------------------------------------\u001b[0m",
      "\u001b[0;31mKeyboardInterrupt\u001b[0m                         Traceback (most recent call last)",
      "\u001b[0;32m<ipython-input-3-c1d82888a4b7>\u001b[0m in \u001b[0;36m<module>\u001b[0;34m()\u001b[0m\n\u001b[1;32m      1\u001b[0m add(next_pos, pennies, nickles, dimes, hours, clock,\n\u001b[0;32m----> 2\u001b[0;31m     positions_filled, counter, total)\n\u001b[0m",
      "\u001b[0;32m<ipython-input-1-1f8d5c566f50>\u001b[0m in \u001b[0;36madd\u001b[0;34m(next_pos, pennies, dimes, nickles, hours, clock, positions_filled, counter, total)\u001b[0m\n\u001b[1;32m     19\u001b[0m                 \u001b[0mnext_pos\u001b[0m \u001b[0;34m=\u001b[0m \u001b[0;34m(\u001b[0m\u001b[0mnext_pos\u001b[0m \u001b[0;34m+\u001b[0m \u001b[0;36m1\u001b[0m\u001b[0;34m)\u001b[0m \u001b[0;34m%\u001b[0m \u001b[0mhours\u001b[0m\u001b[0;34m\u001b[0m\u001b[0m\n\u001b[1;32m     20\u001b[0m                 if add(next_pos, pennies, dimes, nickles, hours,\n\u001b[0;32m---> 21\u001b[0;31m                     clock,positions_filled, counter, total) == True:\n\u001b[0m\u001b[1;32m     22\u001b[0m                     \u001b[0;32mreturn\u001b[0m \u001b[0;32mTrue\u001b[0m\u001b[0;34m\u001b[0m\u001b[0m\n\u001b[1;32m     23\u001b[0m                 \u001b[0;32melse\u001b[0m\u001b[0;34m:\u001b[0m\u001b[0;34m\u001b[0m\u001b[0m\n",
      "\u001b[0;32m<ipython-input-1-1f8d5c566f50>\u001b[0m in \u001b[0;36madd\u001b[0;34m(next_pos, pennies, dimes, nickles, hours, clock, positions_filled, counter, total)\u001b[0m\n\u001b[1;32m     19\u001b[0m                 \u001b[0mnext_pos\u001b[0m \u001b[0;34m=\u001b[0m \u001b[0;34m(\u001b[0m\u001b[0mnext_pos\u001b[0m \u001b[0;34m+\u001b[0m \u001b[0;36m1\u001b[0m\u001b[0;34m)\u001b[0m \u001b[0;34m%\u001b[0m \u001b[0mhours\u001b[0m\u001b[0;34m\u001b[0m\u001b[0m\n\u001b[1;32m     20\u001b[0m                 if add(next_pos, pennies, dimes, nickles, hours,\n\u001b[0;32m---> 21\u001b[0;31m                     clock,positions_filled, counter, total) == True:\n\u001b[0m\u001b[1;32m     22\u001b[0m                     \u001b[0;32mreturn\u001b[0m \u001b[0;32mTrue\u001b[0m\u001b[0;34m\u001b[0m\u001b[0m\n\u001b[1;32m     23\u001b[0m                 \u001b[0;32melse\u001b[0m\u001b[0;34m:\u001b[0m\u001b[0;34m\u001b[0m\u001b[0m\n",
      "\u001b[0;32m<ipython-input-1-1f8d5c566f50>\u001b[0m in \u001b[0;36madd\u001b[0;34m(next_pos, pennies, dimes, nickles, hours, clock, positions_filled, counter, total)\u001b[0m\n\u001b[1;32m     48\u001b[0m \u001b[0;34m\u001b[0m\u001b[0m\n\u001b[1;32m     49\u001b[0m \u001b[0;34m\u001b[0m\u001b[0m\n\u001b[0;32m---> 50\u001b[0;31m             \u001b[0;32melif\u001b[0m \u001b[0;34m(\u001b[0m\u001b[0mi\u001b[0m \u001b[0;34m==\u001b[0m \u001b[0;36m2\u001b[0m\u001b[0;34m)\u001b[0m\u001b[0;34m:\u001b[0m\u001b[0;34m\u001b[0m\u001b[0m\n\u001b[0m\u001b[1;32m     51\u001b[0m                 \u001b[0;32mif\u001b[0m \u001b[0;34m(\u001b[0m\u001b[0mdimes\u001b[0m \u001b[0;34m>\u001b[0m \u001b[0;36m0\u001b[0m\u001b[0;34m)\u001b[0m\u001b[0;34m:\u001b[0m\u001b[0;34m\u001b[0m\u001b[0m\n\u001b[1;32m     52\u001b[0m                     \u001b[0mclock\u001b[0m\u001b[0;34m[\u001b[0m\u001b[0mnext_pos\u001b[0m\u001b[0;34m]\u001b[0m \u001b[0;34m=\u001b[0m \u001b[0;34m'd'\u001b[0m\u001b[0;34m\u001b[0m\u001b[0m\n",
      "\u001b[0;31mKeyboardInterrupt\u001b[0m: "
     ]
    }
   ],
   "source": [
    "add(next_pos, pennies, nickles, dimes, hours, clock,\n",
    "    positions_filled, counter, total)"
   ]
  },
  {
   "cell_type": "code",
   "execution_count": null,
   "metadata": {},
   "outputs": [],
   "source": []
  },
  {
   "cell_type": "code",
   "execution_count": null,
   "metadata": {},
   "outputs": [],
   "source": []
  }
 ],
 "metadata": {
  "kernelspec": {
   "display_name": "Python 3",
   "language": "python",
   "name": "python3"
  },
  "language_info": {
   "codemirror_mode": {
    "name": "ipython",
    "version": 3
   },
   "file_extension": ".py",
   "mimetype": "text/x-python",
   "name": "python",
   "nbconvert_exporter": "python",
   "pygments_lexer": "ipython3",
   "version": "3.6.5"
  }
 },
 "nbformat": 4,
 "nbformat_minor": 2
}
