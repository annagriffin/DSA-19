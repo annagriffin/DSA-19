{
 "cells": [
  {
   "cell_type": "code",
   "execution_count": 13,
   "metadata": {},
   "outputs": [],
   "source": [
    "import numpy as np\n",
    "\n",
    "n = 4\n",
    "board = []\n"
   ]
  },
  {
   "cell_type": "code",
   "execution_count": 14,
   "metadata": {},
   "outputs": [],
   "source": [
    "def make_row(n):\n",
    "    row = []\n",
    "    for each in range(n):\n",
    "        row.append('.')\n",
    "        \n",
    "    return row"
   ]
  },
  {
   "cell_type": "code",
   "execution_count": 15,
   "metadata": {},
   "outputs": [],
   "source": [
    "def make_board(n):\n",
    "    board = []\n",
    "    for each in range(n):\n",
    "        board.append(make_row(n))\n",
    "        \n",
    "    return board"
   ]
  },
  {
   "cell_type": "code",
   "execution_count": 16,
   "metadata": {},
   "outputs": [],
   "source": [
    "first = (make_board(4))"
   ]
  },
  {
   "cell_type": "code",
   "execution_count": 19,
   "metadata": {},
   "outputs": [],
   "source": [
    "def print_board(board):\n",
    "    \n",
    "    l = len(board)\n",
    "    board_string = \"\"\n",
    "    for i in range(l):\n",
    "        for j in range(l):\n",
    "            board_string += board[i][j]    \n",
    "    i = 0\n",
    "    \n",
    "    while (i < len(board_string)):\n",
    "        print(board_string[1:1+4])\n",
    "        i+=4;\n",
    "        \n",
    "    \n",
    "            \n"
   ]
  },
  {
   "cell_type": "code",
   "execution_count": 20,
   "metadata": {},
   "outputs": [
    {
     "name": "stdout",
     "output_type": "stream",
     "text": [
      "....\n",
      "....\n",
      "....\n",
      "....\n"
     ]
    }
   ],
   "source": [
    "print_board(first)"
   ]
  },
  {
   "cell_type": "code",
   "execution_count": 30,
   "metadata": {},
   "outputs": [],
   "source": [
    "def queens(board, row, col):\n",
    "    if (col > len(board)):\n",
    "        return \"solution\"\n",
    "    \n",
    "    i = 0\n",
    "    \n",
    "    while (i < n):\n",
    "        if check(board, row,col) == True:\n",
    "            put_queen(board, row,col)\n",
    "            queens(board, row, col+i+1)\n",
    "            remove_queen(board, row, col)\n",
    "        i+=1"
   ]
  },
  {
   "cell_type": "code",
   "execution_count": 33,
   "metadata": {},
   "outputs": [],
   "source": [
    "def put_queen(board,row,col):\n",
    "    board[row][col] = 'Q';\n",
    "    \n",
    "    return board\n",
    "    \n",
    "    "
   ]
  },
  {
   "cell_type": "code",
   "execution_count": 23,
   "metadata": {},
   "outputs": [],
   "source": [
    "def remove_queen(board, row, col):\n",
    "    board[row][col] = '.';\n",
    "    \n",
    "    return board"
   ]
  },
  {
   "cell_type": "code",
   "execution_count": 24,
   "metadata": {},
   "outputs": [],
   "source": [
    "def check_horizontal(board, row, col):\n",
    "    x = col - 1\n",
    "    \n",
    "    while (x >= 0):\n",
    "        if board[row][x] == 'Q':\n",
    "            return True\n",
    "        x-=1;\n",
    "        \n",
    "    return False\n"
   ]
  },
  {
   "cell_type": "code",
   "execution_count": 25,
   "metadata": {},
   "outputs": [],
   "source": [
    "def check_vertical(board, row, col):\n",
    "    y = row - 1\n",
    "    \n",
    "    while (y >= 0):\n",
    "        if board[y][col] == 'Q':\n",
    "            return True\n",
    "        y -= 1\n",
    "        \n",
    "        \n",
    "    return False"
   ]
  },
  {
   "cell_type": "code",
   "execution_count": 26,
   "metadata": {},
   "outputs": [],
   "source": [
    "def check_diagonal(board, row, col):\n",
    "    y = row - 1\n",
    "    x = col - 1\n",
    "    \n",
    "    while (y>=0 and x>=0):\n",
    "        if (board[y][x] == 'Q'):\n",
    "            return True\n",
    "        x -= 1\n",
    "        y -= 1\n",
    "        \n",
    "    y = row - 1\n",
    "    x = col + 1\n",
    "    while (y >= 0 and x < len(board[0])):\n",
    "        if (board[y][x] == 'Q'):\n",
    "            return True\n",
    "        x+=1\n",
    "        y+=1\n",
    "        \n",
    "    return False"
   ]
  },
  {
   "cell_type": "code",
   "execution_count": 27,
   "metadata": {},
   "outputs": [],
   "source": [
    "def check(board, row, col):\n",
    "    \n",
    "    if check_diagonal(board, row, col) == True:\n",
    "        return False\n",
    "    if check_horizontal(board, row, col) == True:\n",
    "        return False\n",
    "    if check_vertical(board, row, col) == True:\n",
    "        return False\n",
    "    \n",
    "    return True"
   ]
  },
  {
   "cell_type": "code",
   "execution_count": 34,
   "metadata": {},
   "outputs": [],
   "source": [
    "def solve(n):\n",
    "    \n",
    "    \n",
    "    board = make_board(n)\n",
    "    print_board(board)\n",
    "    if queens(board,0,0) == False:\n",
    "        return False\n",
    "    \n",
    "    print_board(board)"
   ]
  },
  {
   "cell_type": "code",
   "execution_count": 35,
   "metadata": {},
   "outputs": [
    {
     "name": "stdout",
     "output_type": "stream",
     "text": [
      "....\n",
      "....\n",
      "....\n",
      "....\n",
      "....\n",
      "....\n",
      "....\n",
      "....\n"
     ]
    }
   ],
   "source": [
    "solve(4)"
   ]
  },
  {
   "cell_type": "code",
   "execution_count": 4,
   "metadata": {},
   "outputs": [
    {
     "name": "stdout",
     "output_type": "stream",
     "text": [
      "\n",
      "1 None\n",
      "\n",
      "0 None\n",
      "\n",
      "0 None\n",
      "\n",
      "0 None\n",
      "\n",
      "0 None\n",
      "\n",
      "0 None\n",
      "\n",
      "0 None\n",
      "\n",
      "0 None\n",
      "\n",
      "1 None\n",
      "\n",
      "0 None\n",
      "\n",
      "0 None\n",
      "\n",
      "1 None\n",
      "\n",
      "0 None\n",
      "\n",
      "0 None\n",
      "\n",
      "0 None\n",
      "\n",
      "0 None\n",
      "\n",
      "0 None\n",
      "\n",
      "0 None\n",
      "\n",
      "0 None\n",
      "\n",
      "1 None\n",
      "\n",
      "0 None\n",
      "\n",
      "0 None\n",
      "\n",
      "1 None\n",
      "\n",
      "0 None\n",
      "\n",
      "0 None\n"
     ]
    },
    {
     "data": {
      "text/plain": [
       "True"
      ]
     },
     "execution_count": 4,
     "metadata": {},
     "output_type": "execute_result"
    }
   ],
   "source": [
    "global N \n",
    "N = 5\n",
    "  \n",
    "def printSolution(board): \n",
    "    for i in range(N): \n",
    "        for j in range(N): \n",
    "            print (board[i][j], print(\"\"))\n",
    "  \n",
    "  \n",
    "# A utility function to check if a queen can \n",
    "# be placed on board[row][col]. Note that this \n",
    "# function is called when \"col\" queens are \n",
    "# already placed in columns from 0 to col -1. \n",
    "# So we need to check only left side for \n",
    "# attacking queens \n",
    "def isSafe(board, row, col): \n",
    "  \n",
    "    # Check this row on left side \n",
    "    for i in range(col): \n",
    "        if board[row][i] == 1: \n",
    "            return False\n",
    "  \n",
    "    # Check upper diagonal on left side \n",
    "    for i,j in zip(range(row,-1,-1), range(col,-1,-1)): \n",
    "        if board[i][j] == 1: \n",
    "            return False\n",
    "  \n",
    "    # Check lower diagonal on left side \n",
    "    for i,j in zip(range(row,N,1), range(col,-1,-1)): \n",
    "        if board[i][j] == 1: \n",
    "            return False\n",
    "  \n",
    "    return True\n",
    "  \n",
    "def solveNQUtil(board, col): \n",
    "    # base case: If all queens are placed \n",
    "    # then return true \n",
    "    if col >= N: \n",
    "        return True\n",
    "  \n",
    "    # Consider this column and try placing \n",
    "    # this queen in all rows one by one \n",
    "    for i in range(N): \n",
    "  \n",
    "        if isSafe(board, i, col): \n",
    "            # Place this queen in board[i][col] \n",
    "            board[i][col] = 1\n",
    "  \n",
    "            # recur to place rest of the queens \n",
    "            if solveNQUtil(board, col+1) == True: \n",
    "                return True\n",
    "  \n",
    "            # If placing queen in board[i][col \n",
    "            # doesn't lead to a solution, then \n",
    "            # queen from board[i][col] \n",
    "            board[i][col] = 0\n",
    "  \n",
    "    # if the queen can not be placed in any row in \n",
    "    # this colum col  then return false \n",
    "    return False\n",
    "  \n",
    "# This function solves the N Queen problem using \n",
    "# Backtracking. It mainly uses solveNQUtil() to \n",
    "# solve the problem. It returns false if queens \n",
    "# cannot be placed, otherwise return true and \n",
    "# placement of queens in the form of 1s. \n",
    "# note that there may be more than one \n",
    "# solutions, this function prints one  of the \n",
    "# feasible solutions. \n",
    "def solveNQ(): \n",
    "    board = [ [0, 0, 0, 0, 0], \n",
    "              [0, 0, 0, 0, 0], \n",
    "              [0, 0, 0, 0, 0], \n",
    "              [0, 0, 0, 0, 0],\n",
    "              [0, 0, 0, 0, 0]\n",
    "             ] \n",
    "  \n",
    "    if solveNQUtil(board, 0) == False: \n",
    "        print (\"Solution does not exist\")\n",
    "        return False\n",
    "  \n",
    "    printSolution(board) \n",
    "    return True\n",
    "  \n",
    "# driver program to test above function \n",
    "solveNQ() \n",
    "  "
   ]
  },
  {
   "cell_type": "code",
   "execution_count": null,
   "metadata": {},
   "outputs": [],
   "source": []
  }
 ],
 "metadata": {
  "kernelspec": {
   "display_name": "Python 3",
   "language": "python",
   "name": "python3"
  },
  "language_info": {
   "codemirror_mode": {
    "name": "ipython",
    "version": 3
   },
   "file_extension": ".py",
   "mimetype": "text/x-python",
   "name": "python",
   "nbconvert_exporter": "python",
   "pygments_lexer": "ipython3",
   "version": "3.6.5"
  }
 },
 "nbformat": 4,
 "nbformat_minor": 2
}
