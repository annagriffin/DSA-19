{
 "cells": [
  {
   "cell_type": "code",
   "execution_count": 9,
   "metadata": {},
   "outputs": [],
   "source": [
    "hours_in_day = 12"
   ]
  },
  {
   "cell_type": "code",
   "execution_count": 10,
   "metadata": {},
   "outputs": [],
   "source": [
    "coinvalue = {'P': 1, 'N': 5, 'D':10}"
   ]
  },
  {
   "cell_type": "code",
   "execution_count": 57,
   "metadata": {},
   "outputs": [],
   "source": [
    "def verify(coin_list):\n",
    "    clock = [None] * hours_in_day\n",
    "    position = 0\n",
    "    for coin in coin_list:\n",
    "        position = (position + coinvalue[coin]) % hours_in_day\n",
    "        if (clock[position] == False):\n",
    "            return False\n",
    "        \n",
    "        clock[position] = coin\n",
    "            \n",
    "    return True"
   ]
  },
  {
   "cell_type": "code",
   "execution_count": 78,
   "metadata": {},
   "outputs": [],
   "source": [
    "def find(coin_list, p, n, d):\n",
    "    if p < 0 or n < 0 or d < 0:\n",
    "        return []\n",
    "    if verify(coin_list):\n",
    "        if len(coin_list) == hours_in_day:\n",
    "            return [coin_list]\n",
    "        else: \n",
    "            return (find(coin_list + 'P', p - 1, n, d) +\n",
    "                    find(coin_list + 'N', p, n - 1, d) +\n",
    "                    find(coin_list + 'D', p, n, d - 1))\n",
    "        \n",
    "    else:\n",
    "        return []"
   ]
  },
  {
   "cell_type": "code",
   "execution_count": 59,
   "metadata": {},
   "outputs": [],
   "source": [
    "def value(start, coin_list):\n",
    "    clock = [None] * hours_in_day\n",
    "    position = start - 1\n",
    "    for coin in coin_list:\n",
    "        position = (position + coinvalue[coin]) % hours_in_day\n",
    "        clock[position] = coin\n",
    "    return sum(map(lambda p: coinvalue[clock[p]]*(p+1), range(hours_in_day)))\n",
    "\n",
    "\n"
   ]
  },
  {
   "cell_type": "code",
   "execution_count": 60,
   "metadata": {},
   "outputs": [],
   "source": [
    "def best(solutions):\n",
    "    max_val = 0\n",
    "    bestSolutions = []\n",
    "    for each in solutions:\n",
    "        for start in range(1,hours_in_day+1):\n",
    "            val = value(start, each)\n",
    "            if val > max_val:\n",
    "                max_val = val\n",
    "                bestSolutions = [(start,each)]\n",
    "            elif val == maxval:\n",
    "                bestSolutions += [(start,each)]\n",
    "                \n",
    "    return max_val, bestSolutions\n"
   ]
  },
  {
   "cell_type": "code",
   "execution_count": 79,
   "metadata": {},
   "outputs": [
    {
     "data": {
      "text/plain": [
       "[]"
      ]
     },
     "execution_count": 79,
     "metadata": {},
     "output_type": "execute_result"
    }
   ],
   "source": [
    "coin_list = 'PPDDNNPDDDPNN'\n",
    "find(coin_list, 4, 4, 4)"
   ]
  },
  {
   "cell_type": "code",
   "execution_count": 55,
   "metadata": {},
   "outputs": [
    {
     "name": "stdout",
     "output_type": "stream",
     "text": [
      "1\n",
      "[None, None, None, None, None, None, None, None, None, None, None, None]\n",
      "2\n",
      "[None, 'P', None, None, None, None, None, None, None, None, None, None]\n",
      "0\n",
      "[None, 'P', 'P', None, None, None, None, None, None, None, None, None]\n",
      "10\n",
      "['D', 'P', 'P', None, None, None, None, None, None, None, None, None]\n",
      "3\n",
      "['D', 'P', 'P', None, None, None, None, None, None, None, 'D', None]\n",
      "8\n",
      "['D', 'P', 'P', 'N', None, None, None, None, None, None, 'D', None]\n",
      "9\n",
      "['D', 'P', 'P', 'N', None, None, None, None, 'N', None, 'D', None]\n",
      "7\n",
      "['D', 'P', 'P', 'N', None, None, None, None, 'N', 'P', 'D', None]\n",
      "5\n",
      "['D', 'P', 'P', 'N', None, None, None, 'D', 'N', 'P', 'D', None]\n",
      "6\n",
      "['D', 'P', 'P', 'N', None, 'D', None, 'D', 'N', 'P', 'D', None]\n",
      "11\n",
      "['D', 'P', 'P', 'N', None, 'D', 'P', 'D', 'N', 'P', 'D', None]\n",
      "4\n",
      "['D', 'P', 'P', 'N', None, 'D', 'P', 'D', 'N', 'P', 'D', 'N']\n"
     ]
    },
    {
     "data": {
      "text/plain": [
       "True"
      ]
     },
     "execution_count": 55,
     "metadata": {},
     "output_type": "execute_result"
    }
   ],
   "source": [
    "verify('PPDDNNPDDPNN')"
   ]
  },
  {
   "cell_type": "code",
   "execution_count": null,
   "metadata": {},
   "outputs": [],
   "source": []
  }
 ],
 "metadata": {
  "kernelspec": {
   "display_name": "Python 3",
   "language": "python",
   "name": "python3"
  },
  "language_info": {
   "codemirror_mode": {
    "name": "ipython",
    "version": 3
   },
   "file_extension": ".py",
   "mimetype": "text/x-python",
   "name": "python",
   "nbconvert_exporter": "python",
   "pygments_lexer": "ipython3",
   "version": "3.6.5"
  }
 },
 "nbformat": 4,
 "nbformat_minor": 2
}
